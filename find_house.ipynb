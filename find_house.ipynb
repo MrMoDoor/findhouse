{
 "cells": [
  {
   "cell_type": "markdown",
   "metadata": {},
   "source": [
    "### 首先，爬取链家 上海浦东新区、徐汇价位在2000到4000的一室户数据\n",
    "\n",
    "使用scrapy，编写好爬虫，执行爬取命令，保存到result.csv文件中\n",
    "\n",
    "    scrapy crawl lianjia -o result.csv -t csv"
   ]
  },
  {
   "cell_type": "code",
   "execution_count": 74,
   "metadata": {
    "collapsed": true
   },
   "outputs": [],
   "source": [
    "# 读取数据\n",
    "import pandas\n",
    "df = pandas.read_csv('crawler/result.csv')"
   ]
  },
  {
   "cell_type": "code",
   "execution_count": 75,
   "metadata": {
    "collapsed": false
   },
   "outputs": [
    {
     "data": {
      "text/plain": [
       "2239"
      ]
     },
     "execution_count": 75,
     "metadata": {},
     "output_type": "execute_result"
    }
   ],
   "source": [
    "# 统计下总个数\n",
    "len(df)"
   ]
  },
  {
   "cell_type": "code",
   "execution_count": 76,
   "metadata": {
    "collapsed": false
   },
   "outputs": [
    {
     "data": {
      "text/html": [
       "<div>\n",
       "<table border=\"1\" class=\"dataframe\">\n",
       "  <thead>\n",
       "    <tr style=\"text-align: right;\">\n",
       "      <th></th>\n",
       "      <th>floor</th>\n",
       "      <th>url</th>\n",
       "      <th>price</th>\n",
       "      <th>title</th>\n",
       "      <th>community</th>\n",
       "      <th>location</th>\n",
       "    </tr>\n",
       "  </thead>\n",
       "  <tbody>\n",
       "    <tr>\n",
       "      <th>0</th>\n",
       "      <td>低层/6层</td>\n",
       "      <td>http://sh.lianjia.com/zufang/shz3354705.html</td>\n",
       "      <td>3000</td>\n",
       "      <td>毗邻地铁，上门实勘，小户型，看房末班车</td>\n",
       "      <td>东沟四村</td>\n",
       "      <td>金桥</td>\n",
       "    </tr>\n",
       "    <tr>\n",
       "      <th>1</th>\n",
       "      <td>中层/11层</td>\n",
       "      <td>http://sh.lianjia.com/zufang/shz2851576.html</td>\n",
       "      <td>3500</td>\n",
       "      <td>上门实勘，享受好房，一室小户型，抢手火热</td>\n",
       "      <td>环龙公寓</td>\n",
       "      <td>北蔡</td>\n",
       "    </tr>\n",
       "    <tr>\n",
       "      <th>2</th>\n",
       "      <td>低层/6层</td>\n",
       "      <td>http://sh.lianjia.com/zufang/shz3407791.html</td>\n",
       "      <td>2000</td>\n",
       "      <td>业主降价，热门好房，交通便利，上门实拍</td>\n",
       "      <td>玉兰苑（川沙）</td>\n",
       "      <td>川沙</td>\n",
       "    </tr>\n",
       "    <tr>\n",
       "      <th>3</th>\n",
       "      <td>中层/5层</td>\n",
       "      <td>http://sh.lianjia.com/zufang/shz3452689.html</td>\n",
       "      <td>4000</td>\n",
       "      <td>出行方便，如您所见，刚刚降价，上门实勘</td>\n",
       "      <td>上钢一村</td>\n",
       "      <td>世博</td>\n",
       "    </tr>\n",
       "    <tr>\n",
       "      <th>4</th>\n",
       "      <td>高层/27层</td>\n",
       "      <td>http://sh.lianjia.com/zufang/shz3458271.html</td>\n",
       "      <td>3800</td>\n",
       "      <td>高区阳光房，上门实拍，链家房源，地铁沿线</td>\n",
       "      <td>地杰国际城</td>\n",
       "      <td>御桥</td>\n",
       "    </tr>\n",
       "  </tbody>\n",
       "</table>\n",
       "</div>"
      ],
      "text/plain": [
       "    floor                                           url  price  \\\n",
       "0   低层/6层  http://sh.lianjia.com/zufang/shz3354705.html   3000   \n",
       "1  中层/11层  http://sh.lianjia.com/zufang/shz2851576.html   3500   \n",
       "2   低层/6层  http://sh.lianjia.com/zufang/shz3407791.html   2000   \n",
       "3   中层/5层  http://sh.lianjia.com/zufang/shz3452689.html   4000   \n",
       "4  高层/27层  http://sh.lianjia.com/zufang/shz3458271.html   3800   \n",
       "\n",
       "                  title community location  \n",
       "0   毗邻地铁，上门实勘，小户型，看房末班车      东沟四村       金桥  \n",
       "1  上门实勘，享受好房，一室小户型，抢手火热      环龙公寓       北蔡  \n",
       "2   业主降价，热门好房，交通便利，上门实拍   玉兰苑（川沙）       川沙  \n",
       "3   出行方便，如您所见，刚刚降价，上门实勘      上钢一村       世博  \n",
       "4  高区阳光房，上门实拍，链家房源，地铁沿线     地杰国际城       御桥  "
      ]
     },
     "execution_count": 76,
     "metadata": {},
     "output_type": "execute_result"
    }
   ],
   "source": [
    "# 显示数据结构\n",
    "df.head()"
   ]
  },
  {
   "cell_type": "code",
   "execution_count": 77,
   "metadata": {
    "collapsed": false
   },
   "outputs": [
    {
     "data": {
      "text/plain": [
       "location\n",
       "万体馆      14\n",
       "三林      180\n",
       "上海南站     54\n",
       "世博      172\n",
       "北蔡      173\n",
       "华东理工     91\n",
       "华泾       30\n",
       "南码头      53\n",
       "合庆        2\n",
       "周浦       96\n",
       "唐镇       38\n",
       "塘桥       22\n",
       "外高桥      75\n",
       "川沙       93\n",
       "康健       96\n",
       "康桥       50\n",
       "建国西路      4\n",
       "张江       71\n",
       "徐家汇      52\n",
       "徐汇滨江      4\n",
       "御桥       26\n",
       "惠南       14\n",
       "斜土路      25\n",
       "曹路       39\n",
       "杨东        5\n",
       "植物园      23\n",
       "泥城镇       1\n",
       "洋泾       72\n",
       "源深       26\n",
       "漕河泾      16\n",
       "潍坊       36\n",
       "田林       46\n",
       "碧云        7\n",
       "花木       14\n",
       "衡山路      22\n",
       "金杨      120\n",
       "金桥      210\n",
       "长桥       45\n",
       "陆家嘴      12\n",
       "高东       21\n",
       "高行       46\n",
       "龙华       43\n",
       "dtype: int64"
      ]
     },
     "execution_count": 77,
     "metadata": {},
     "output_type": "execute_result"
    }
   ],
   "source": [
    "# 统计各个位置租房个数\n",
    "df.groupby('location').size()"
   ]
  },
  {
   "cell_type": "code",
   "execution_count": 78,
   "metadata": {
    "collapsed": true
   },
   "outputs": [],
   "source": [
    "# 忽略几个离工作地点比较远的地方\n",
    "ignore_location = ['周浦', '北蔡', '唐镇 ',  '外高桥', '川沙', '康健', '康桥', '御桥', '惠南', '曹路', '植物园', '金杨', '高东']\n",
    "mask = df['location'].isin(ignore_location)\n",
    "df = df[~mask]"
   ]
  },
  {
   "cell_type": "code",
   "execution_count": 79,
   "metadata": {
    "collapsed": false
   },
   "outputs": [
    {
     "data": {
      "text/plain": [
       "community_c\n",
       "三杨新村一街坊        6\n",
       "三杨新村二街坊        3\n",
       "三林世博家园        12\n",
       "三林安居苑          2\n",
       "三林新村          21\n",
       "三林苑            2\n",
       "三林路430弄        1\n",
       "三江小区          12\n",
       "上南一村           5\n",
       "上南七村           3\n",
       "上南三村           4\n",
       "上南九村           1\n",
       "上南二村           6\n",
       "上南五村           2\n",
       "上南八村           6\n",
       "上南六村           4\n",
       "上南十一村          5\n",
       "上南十二村          1\n",
       "上南十村           5\n",
       "上南四村           7\n",
       "上南路3520弄       1\n",
       "上南路3827弄       2\n",
       "上南路3848弄       1\n",
       "上方花园           4\n",
       "上海新村           2\n",
       "上溶新村           2\n",
       "上缝小区           3\n",
       "上船大楼           1\n",
       "上钢一村           9\n",
       "上钢三村           3\n",
       "              ..\n",
       "阳光二村           7\n",
       "阳光城MODO自由区     2\n",
       "阳光城市家园         1\n",
       "阳光花城           1\n",
       "陆家嘴中央公寓        2\n",
       "陇南小区           5\n",
       "陈家宅小区          7\n",
       "陈家门小区          2\n",
       "香楠小区           8\n",
       "馨宁公寓           1\n",
       "高安路18弄         1\n",
       "高弘家苑           6\n",
       "高海家苑           3\n",
       "高行家园           1\n",
       "齐七小区           1\n",
       "齐二小区           4\n",
       "齐八小区           3\n",
       "齐友佳苑           1\n",
       "齐爱佳苑           6\n",
       "龙东花园           1\n",
       "龙华茶花园          1\n",
       "龙华路2373弄       1\n",
       "龙南七村           1\n",
       "龙南三村           2\n",
       "龙吴路11弄         1\n",
       "龙吴路13弄         2\n",
       "龙吴路410弄        2\n",
       "龙山新村           3\n",
       "龙州小区           1\n",
       "龙漕路66弄         1\n",
       "dtype: int64"
      ]
     },
     "execution_count": 79,
     "metadata": {},
     "output_type": "execute_result"
    }
   ],
   "source": [
    "# 清理小区数据\n",
    "df['community_c'] = df['community'].apply(lambda x: x.split('（')[0])\n",
    "\n",
    "# 统计各个小区租房个数\n",
    "df.groupby('community_c').size()"
   ]
  },
  {
   "cell_type": "code",
   "execution_count": 80,
   "metadata": {
    "collapsed": false
   },
   "outputs": [
    {
     "data": {
      "text/plain": [
       "503"
      ]
     },
     "execution_count": 80,
     "metadata": {},
     "output_type": "execute_result"
    }
   ],
   "source": [
    "# 小区数\n",
    "df.groupby('community_c').size().count()"
   ]
  },
  {
   "cell_type": "code",
   "execution_count": 81,
   "metadata": {
    "collapsed": false
   },
   "outputs": [],
   "source": [
    "# 获取各小区名\n",
    "communities = list(set(df['community_c'].tolist()))"
   ]
  },
  {
   "cell_type": "code",
   "execution_count": 208,
   "metadata": {
    "collapsed": true
   },
   "outputs": [],
   "source": [
    "# 名称转为坐标\n",
    "import requests\n",
    "import urllib\n",
    "\n",
    "# 高德地图 key\n",
    "key = 'XXXXXX'\n",
    "\n",
    "# 地理编码\n",
    "code_url = u'http://restapi.amap.com/v3/geocode/geo?key=' + key + '&city=shanghai&address={}'\n",
    "\n",
    "def name2location(name):\n",
    "    res = requests.get(code_url.format(urllib.quote(name)))\n",
    "    data = res.json()['geocodes']\n",
    "    if data:\n",
    "        return data[0]['location']\n",
    "    else:\n",
    "        return None"
   ]
  },
  {
   "cell_type": "code",
   "execution_count": 209,
   "metadata": {
    "collapsed": false
   },
   "outputs": [],
   "source": [
    "# 目的地\n",
    "destination = \"卢湾区淮海中路381号中环广场\"\n",
    "\n",
    "# 获取目的地坐标\n",
    "destination_location = name2location(destination)\n",
    "\n",
    "# 获取小区名称为坐标\n",
    "community_locations = dict()\n",
    "for c in communities:\n",
    "    loc = name2location(c)\n",
    "    if loc:\n",
    "        community_locations[c] = name2location(c)"
   ]
  },
  {
   "cell_type": "code",
   "execution_count": 214,
   "metadata": {
    "collapsed": false
   },
   "outputs": [],
   "source": [
    "# 计算小区到目的地时间\n",
    "\n",
    "durations = dict()\n",
    "for (k,v) in community_locations.items():\n",
    "    durations[k] = get_duration(v)"
   ]
  },
  {
   "cell_type": "code",
   "execution_count": 219,
   "metadata": {
    "collapsed": false
   },
   "outputs": [],
   "source": [
    "# 添加坐标信息\n",
    "df['community_loc'] = df['community_c'].apply(lambda x: community_locations[x] if x in community_locations else None)"
   ]
  },
  {
   "cell_type": "code",
   "execution_count": 221,
   "metadata": {
    "collapsed": false
   },
   "outputs": [],
   "source": [
    "# 添加时间信息\n",
    "df['duration'] = df['community_c'].apply(lambda x: durations[x] if x in durations else None)"
   ]
  },
  {
   "cell_type": "code",
   "execution_count": 235,
   "metadata": {
    "collapsed": false
   },
   "outputs": [],
   "source": [
    "#  保存计算结果\n",
    "df.sort_values(by=['duration', 'price'])\n",
    "df.to_csv('house.csv')"
   ]
  },
  {
   "cell_type": "code",
   "execution_count": 237,
   "metadata": {
    "collapsed": false
   },
   "outputs": [
    {
     "data": {
      "text/html": [
       "<div>\n",
       "<table border=\"1\" class=\"dataframe\">\n",
       "  <thead>\n",
       "    <tr style=\"text-align: right;\">\n",
       "      <th></th>\n",
       "      <th>floor</th>\n",
       "      <th>url</th>\n",
       "      <th>price</th>\n",
       "      <th>title</th>\n",
       "      <th>community</th>\n",
       "      <th>location</th>\n",
       "      <th>community_c</th>\n",
       "      <th>community_loc</th>\n",
       "      <th>duration</th>\n",
       "    </tr>\n",
       "  </thead>\n",
       "  <tbody>\n",
       "    <tr>\n",
       "      <th>638</th>\n",
       "      <td>低层/4层</td>\n",
       "      <td>http://sh.lianjia.com/zufang/shz3447021.html</td>\n",
       "      <td>3800</td>\n",
       "      <td>上方花园，新鲜好房，地铁沿线，1室1厅1卫</td>\n",
       "      <td>上方花园</td>\n",
       "      <td>衡山路</td>\n",
       "      <td>上方花园</td>\n",
       "      <td>121.451190,31.212590</td>\n",
       "      <td>569.0</td>\n",
       "    </tr>\n",
       "    <tr>\n",
       "      <th>155</th>\n",
       "      <td>高层/3层</td>\n",
       "      <td>http://sh.lianjia.com/zufang/shz3413139.html</td>\n",
       "      <td>4000</td>\n",
       "      <td>采光无敌好，1室0厅1卫，一链倾城，有钥匙</td>\n",
       "      <td>上方花园</td>\n",
       "      <td>衡山路</td>\n",
       "      <td>上方花园</td>\n",
       "      <td>121.451190,31.212590</td>\n",
       "      <td>569.0</td>\n",
       "    </tr>\n",
       "    <tr>\n",
       "      <th>592</th>\n",
       "      <td>高层/3层</td>\n",
       "      <td>http://sh.lianjia.com/zufang/shz3423023.html</td>\n",
       "      <td>2000</td>\n",
       "      <td>上方花园，有爱有家，远离雾霾带，一室小户型</td>\n",
       "      <td>上方花园</td>\n",
       "      <td>衡山路</td>\n",
       "      <td>上方花园</td>\n",
       "      <td>121.451190,31.212590</td>\n",
       "      <td>569.0</td>\n",
       "    </tr>\n",
       "    <tr>\n",
       "      <th>595</th>\n",
       "      <td>低层/4层</td>\n",
       "      <td>http://sh.lianjia.com/zufang/shz3429361.html</td>\n",
       "      <td>3800</td>\n",
       "      <td>上方花园，真实在租，上下楼方便，温馨一室</td>\n",
       "      <td>上方花园</td>\n",
       "      <td>衡山路</td>\n",
       "      <td>上方花园</td>\n",
       "      <td>121.451190,31.212590</td>\n",
       "      <td>569.0</td>\n",
       "    </tr>\n",
       "    <tr>\n",
       "      <th>557</th>\n",
       "      <td>中层/3层</td>\n",
       "      <td>http://sh.lianjia.com/zufang/shz3386110.html</td>\n",
       "      <td>3500</td>\n",
       "      <td>紧邻地铁，好楼层，上门实拍，温馨一室</td>\n",
       "      <td>华亭路31弄</td>\n",
       "      <td>衡山路</td>\n",
       "      <td>华亭路31弄</td>\n",
       "      <td>121.450167,31.215623</td>\n",
       "      <td>696.0</td>\n",
       "    </tr>\n",
       "  </tbody>\n",
       "</table>\n",
       "</div>"
      ],
      "text/plain": [
       "     floor                                           url  price  \\\n",
       "638  低层/4层  http://sh.lianjia.com/zufang/shz3447021.html   3800   \n",
       "155  高层/3层  http://sh.lianjia.com/zufang/shz3413139.html   4000   \n",
       "592  高层/3层  http://sh.lianjia.com/zufang/shz3423023.html   2000   \n",
       "595  低层/4层  http://sh.lianjia.com/zufang/shz3429361.html   3800   \n",
       "557  中层/3层  http://sh.lianjia.com/zufang/shz3386110.html   3500   \n",
       "\n",
       "                     title community location community_c  \\\n",
       "638  上方花园，新鲜好房，地铁沿线，1室1厅1卫      上方花园      衡山路        上方花园   \n",
       "155  采光无敌好，1室0厅1卫，一链倾城，有钥匙      上方花园      衡山路        上方花园   \n",
       "592  上方花园，有爱有家，远离雾霾带，一室小户型      上方花园      衡山路        上方花园   \n",
       "595   上方花园，真实在租，上下楼方便，温馨一室      上方花园      衡山路        上方花园   \n",
       "557     紧邻地铁，好楼层，上门实拍，温馨一室    华亭路31弄      衡山路      华亭路31弄   \n",
       "\n",
       "            community_loc  duration  \n",
       "638  121.451190,31.212590     569.0  \n",
       "155  121.451190,31.212590     569.0  \n",
       "592  121.451190,31.212590     569.0  \n",
       "595  121.451190,31.212590     569.0  \n",
       "557  121.450167,31.215623     696.0  "
      ]
     },
     "execution_count": 237,
     "metadata": {},
     "output_type": "execute_result"
    }
   ],
   "source": [
    "df.head()\n"
   ]
  }
 ],
 "metadata": {
  "kernelspec": {
   "display_name": "Python 2",
   "language": "python",
   "name": "python2"
  },
  "language_info": {
   "codemirror_mode": {
    "name": "ipython",
    "version": 2
   },
   "file_extension": ".py",
   "mimetype": "text/x-python",
   "name": "python",
   "nbconvert_exporter": "python",
   "pygments_lexer": "ipython2",
   "version": "2.7.10"
  }
 },
 "nbformat": 4,
 "nbformat_minor": 1
}
